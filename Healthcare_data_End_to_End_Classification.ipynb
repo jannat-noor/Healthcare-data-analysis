{
  "nbformat": 4,
  "nbformat_minor": 0,
  "metadata": {
    "colab": {
      "provenance": [],
      "authorship_tag": "ABX9TyOGbQXlWb6jKLNRUWaaTF/i",
      "include_colab_link": true
    },
    "kernelspec": {
      "name": "python3",
      "display_name": "Python 3"
    },
    "language_info": {
      "name": "python"
    }
  },
  "cells": [
    {
      "cell_type": "markdown",
      "metadata": {
        "id": "view-in-github",
        "colab_type": "text"
      },
      "source": [
        "<a href=\"https://colab.research.google.com/github/jannat-noor/Healthcare-data-analysis/blob/main/Healthcare_data_End_to_End_Classification.ipynb\" target=\"_parent\"><img src=\"https://colab.research.google.com/assets/colab-badge.svg\" alt=\"Open In Colab\"/></a>"
      ]
    },
    {
      "cell_type": "code",
      "execution_count": null,
      "metadata": {
        "collapsed": true,
        "id": "vW14V5Tnw9lc"
      },
      "outputs": [],
      "source": [
        "# Code snippet 0\n",
        "# Installing pycaret\n",
        "!pip install -U --pre pycaret"
      ]
    },
    {
      "cell_type": "code",
      "source": [
        "# Code snippet 1\n",
        "# Importing the dataset\n",
        "import pandas as pd\n",
        "data = pd.read_csv('https://raw.githubusercontent.com/nvamsimohan/DallasDSA/refs/heads/main/PCCI%20Cases%20Readmit30%20Data.csv')\n",
        "data"
      ],
      "metadata": {
        "id": "hYIENO8GyqQs"
      },
      "execution_count": null,
      "outputs": []
    },
    {
      "cell_type": "code",
      "source": [
        "# Code snippet 2\n",
        "# Display the columns\n",
        "data.columns"
      ],
      "metadata": {
        "id": "iDhoUyM6ziue"
      },
      "execution_count": null,
      "outputs": []
    },
    {
      "cell_type": "code",
      "source": [
        "# Code snippet 2.1\n",
        "import missingno as msno\n",
        "msno.bar(data)"
      ],
      "metadata": {
        "collapsed": true,
        "id": "Znhfv0z117W3"
      },
      "execution_count": null,
      "outputs": []
    },
    {
      "cell_type": "code",
      "source": [
        "# Code snippet 3\n",
        "# Setting the target variable\n",
        "y = 'Readmit30'"
      ],
      "metadata": {
        "id": "RPYeHZDIzuRE"
      },
      "execution_count": null,
      "outputs": []
    },
    {
      "cell_type": "code",
      "source": [
        "# Code snippet 4\n",
        "# Setting the noise variables\n",
        "ignored_cols = ['Weight', 'Height', 'Temperature'] # temp has 19% of the data"
      ],
      "metadata": {
        "id": "wmZCT94tz1q8"
      },
      "execution_count": null,
      "outputs": []
    },
    {
      "cell_type": "code",
      "source": [
        "# Code snippet 5\n",
        "# Setting the numerial colums\n",
        "num_cols = ['Age', 'Bmi', 'Pulse', 'Pat_Pain_Score','ER_Visits', 'IP_Visits', 'Chronic_Conditions', 'Glucose', 'Cost_Of_Initial_Stay']"
      ],
      "metadata": {
        "id": "_sqvfR3t0o-Q"
      },
      "execution_count": null,
      "outputs": []
    },
    {
      "cell_type": "code",
      "source": [
        "# Code snippert 5.5\n",
        "import matplotlib.pyplot as plt\n",
        "import seaborn as sns\n",
        "# Generate histogram for Age column using seaborn\n",
        "plt.figure(figsize=(8, 6))\n",
        "sns.histplot(data['Age'], kde=True)\n",
        "plt.title('Distribution of Age')\n",
        "plt.xlabel('Age')\n",
        "plt.ylabel('Frequency')\n",
        "plt.show()"
      ],
      "metadata": {
        "id": "FaWmjbnK4KJC"
      },
      "execution_count": null,
      "outputs": []
    },
    {
      "cell_type": "code",
      "source": [
        "# Code Snippet 6\n",
        "# Setting the categorical variables\n",
        "cat_cols = ['Admit_Week', 'Admit_Month', 'Gender', 'Marital_Status',\n",
        "       'Insurance_Provider', 'Tobacco_User', 'Depression', 'ICU', 'Drug_Abuse',\n",
        "       'Mood_Disorder', 'Diabetes', 'Anxiety', 'Obesity', 'Dementia','Condition', 'Care_Plan_Following_Discharge']"
      ],
      "metadata": {
        "id": "o7SfNtMb2UcF"
      },
      "execution_count": null,
      "outputs": []
    },
    {
      "cell_type": "code",
      "source": [
        "# Code snippet 7\n",
        "# Importing Classification libraries\n",
        "from pycaret.classification import *"
      ],
      "metadata": {
        "id": "K9y77Wvz4LEB"
      },
      "execution_count": null,
      "outputs": []
    },
    {
      "cell_type": "code",
      "source": [
        "# Code snippet 8\n",
        "# Setting/configuring pycaret model\n",
        "classification_setup = setup(data,\n",
        "                             target = y,\n",
        "                             ignore_features  = ignored_cols,\n",
        "                             categorical_features = cat_cols,\n",
        "                             numeric_features = num_cols,\n",
        "                             train_size = 0.75)"
      ],
      "metadata": {
        "id": "tXI5Ebve4xdU"
      },
      "execution_count": null,
      "outputs": []
    },
    {
      "cell_type": "code",
      "source": [
        "# Code snippet 9\n",
        "# Invoking ML algorithms\n",
        "compare_models()"
      ],
      "metadata": {
        "id": "ZK0TLCbH6cGK"
      },
      "execution_count": null,
      "outputs": []
    },
    {
      "cell_type": "code",
      "source": [
        "# Code snippet 10\n",
        "# Creating the model with the best algo\n",
        "best_model = create_model('rf')"
      ],
      "metadata": {
        "id": "ZWr6t7AC9F3J"
      },
      "execution_count": null,
      "outputs": []
    },
    {
      "cell_type": "code",
      "source": [
        "# Code snippet 11\n",
        "# Displaying confusion matrix\n",
        "plot_model(best_model, plot = 'confusion_matrix')"
      ],
      "metadata": {
        "id": "oPjf4IXFHfzl"
      },
      "execution_count": null,
      "outputs": []
    },
    {
      "cell_type": "code",
      "source": [
        "# Code snippet 12\n",
        "# Predicting the standard scores using the best model\n",
        "standard_score_predictions = predict_model(best_model, data)"
      ],
      "metadata": {
        "id": "qC1zbSCQGW24"
      },
      "execution_count": null,
      "outputs": []
    },
    {
      "cell_type": "code",
      "source": [
        "# Code snippet 12\n",
        "# Exporting predictions to a csv file\n",
        "standard_score_predictions.to_csv('Readmit30_predictions.csv')"
      ],
      "metadata": {
        "id": "LMB1KatSGh01"
      },
      "execution_count": null,
      "outputs": []
    }
  ]
}